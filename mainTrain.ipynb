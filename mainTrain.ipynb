{
 "cells": [
  {
   "attachments": {},
   "cell_type": "markdown",
   "metadata": {},
   "source": [
    "# Load Modules"
   ]
  },
  {
   "cell_type": "code",
   "execution_count": 54,
   "metadata": {},
   "outputs": [],
   "source": [
    "import numpy as np\n",
    "import pandas as pd\n",
    "import matplotlib.pyplot as plt\n",
    "import cv2\n",
    "import os\n",
    "from PIL import Image\n",
    "import tensorflow as tf\n",
    "from tensorflow import keras\n",
    "from sklearn.model_selection import train_test_split\n",
    "from keras.utils import normalize\n",
    "from keras.models import Sequential"
   ]
  },
  {
   "attachments": {},
   "cell_type": "markdown",
   "metadata": {},
   "source": [
    "# Collect The Data"
   ]
  },
  {
   "cell_type": "code",
   "execution_count": 26,
   "metadata": {},
   "outputs": [],
   "source": [
    "no_tumor_images=os.listdir('../brain-tumor-detection-master/brain_tumor/Training/no_tumor/')\n",
    "have_tumor_images=os.listdir('../brain-tumor-detection-master/brain_tumor/Training/pituitary_tumor/')\n",
    "dataset=[]\n",
    "label=[]\n",
    "INPUT_SIZE=64"
   ]
  },
  {
   "cell_type": "code",
   "execution_count": 10,
   "metadata": {},
   "outputs": [
    {
     "name": "stdout",
     "output_type": "stream",
     "text": [
      "3666\n",
      "3666\n"
     ]
    }
   ],
   "source": [
    "# no tumor \n",
    "for i, image_name in enumerate(no_tumor_images):\n",
    "    if(image_name.split('.')[1]=='jpg'):\n",
    "        image=cv2.imread('../brain-tumor-detection-master/brain_tumor/Training/no_tumor/'+image_name)\n",
    "        image=Image.fromarray(image,'RGB')\n",
    "        image=image.resize((INPUT_SIZE,INPUT_SIZE))\n",
    "        dataset.append(np.array(image))\n",
    "        label.append(0)\n",
    "\n",
    "# have tumor\n",
    "for i, image_name in enumerate(have_tumor_images):\n",
    "    if(image_name.split('.')[1]=='jpg'):\n",
    "        image=cv2.imread('../brain-tumor-detection-master/brain_tumor/Training/pituitary_tumor/'+image_name)\n",
    "        image=Image.fromarray(image,'RGB')\n",
    "        image=image.resize((INPUT_SIZE,INPUT_SIZE))\n",
    "        dataset.append(np.array(image))\n",
    "        label.append(1)\n",
    "\n",
    "print(len(dataset))\n",
    "print(len(label))"
   ]
  },
  {
   "attachments": {},
   "cell_type": "markdown",
   "metadata": {},
   "source": [
    "# Train  80% , Test 20% and Split"
   ]
  },
  {
   "cell_type": "code",
   "execution_count": 16,
   "metadata": {},
   "outputs": [
    {
     "name": "stdout",
     "output_type": "stream",
     "text": [
      "Train  80%:  (2932, 64, 64, 3)\n",
      "(2932,)\n",
      "Test  20%:  (734, 64, 64, 3)\n",
      "(734,)\n"
     ]
    }
   ],
   "source": [
    "dataset=np.array(dataset)\n",
    "label=np.array(label)\n",
    "\n",
    "# Train  80% , Test 20% and Split\n",
    "\n",
    "x_train, x_test, y_train, y_test= train_test_split(dataset,label,test_size=0.2, random_state=0)\n",
    "# Reshape = (n, image_width, image_height, n_channel)\n",
    "\n",
    "print(\"Train  80%: \",x_train.shape)\n",
    "print(y_train.shape)\n",
    "\n",
    "\n",
    "print(\"Test  20%: \",x_test.shape)\n",
    "print(y_test.shape)\n",
    "\n",
    "# 3 is channel RGB"
   ]
  },
  {
   "cell_type": "code",
   "execution_count": 65,
   "metadata": {},
   "outputs": [],
   "source": [
    "# Categorise\n",
    "x_train = normalize(x_train,axis=1)\n",
    "x_test = normalize(x_train,axis=1)"
   ]
  },
  {
   "cell_type": "code",
   "execution_count": 38,
   "metadata": {},
   "outputs": [
    {
     "data": {
      "text/plain": [
       "array([0, 1])"
      ]
     },
     "execution_count": 38,
     "metadata": {},
     "output_type": "execute_result"
    }
   ],
   "source": [
    "np.unique(y_test)"
   ]
  },
  {
   "cell_type": "code",
   "execution_count": 49,
   "metadata": {},
   "outputs": [
    {
     "data": {
      "text/plain": [
       "1    492\n",
       "0    242\n",
       "Name: count, dtype: int64"
      ]
     },
     "execution_count": 49,
     "metadata": {},
     "output_type": "execute_result"
    }
   ],
   "source": [
    "pd.Series(y_test).value_counts()"
   ]
  },
  {
   "attachments": {},
   "cell_type": "markdown",
   "metadata": {},
   "source": [
    "# Visualize Data"
   ]
  },
  {
   "cell_type": "code",
   "execution_count": 70,
   "metadata": {},
   "outputs": [
    {
     "data": {
      "text/plain": [
       "<matplotlib.image.AxesImage at 0x201d4171b10>"
      ]
     },
     "execution_count": 70,
     "metadata": {},
     "output_type": "execute_result"
    },
    {
     "data": {
      "image/png": "[encoded data removed]",
      "text/plain": [
       "<Figure size 640x480 with 1 Axes>"
      ]
     },
     "metadata": {},
     "output_type": "display_data"
    }
   ],
   "source": [
    "plt.imshow(x_train[0], cmap='gray')"
   ]
  },
  {
   "attachments": {},
   "cell_type": "markdown",
   "metadata": {},
   "source": [
    "# Prepare data"
   ]
  },
  {
   "cell_type": "code",
   "execution_count": 64,
   "metadata": {},
   "outputs": [
    {
     "name": "stdout",
     "output_type": "stream",
     "text": [
      "(2932, 12288)\n",
      "(2932, 12288)\n"
     ]
    }
   ],
   "source": [
    "# reshape data into a 2D \n",
    "X_train_updated = x_train.reshape(len(x_train), -1)\n",
    "X_test_updated = x_test.reshape(len(x_test), -1)\n",
    "\n",
    "print(X_train_updated.shape)\n",
    "print(X_test_updated.shape)\n"
   ]
  },
  {
   "cell_type": "code",
   "execution_count": 78,
   "metadata": {},
   "outputs": [
    {
     "name": "stdout",
     "output_type": "stream",
     "text": [
      "Train Max : 1.0 Train Min 0.0\n",
      "Test Max:  1.0 Test Min 0.0\n",
      "Train x_train/255 Max : 1.0  and Train Min is:  0.0\n",
      "Test x_test/255 Max:  1.0  and Test Min:  0.0\n"
     ]
    }
   ],
   "source": [
    "print(\"Train Max :\",x_train.max(),\"Train Min\",  x_train.min())\n",
    "print(\"Test Max: \",x_test.max(),\"Test Min\", x_test.min())\n",
    "xtrain = x_train/255\n",
    "xtest = x_test/255\n",
    "print(\"Train x_train/255 Max :\",x_train.max(), \" and Train Min is: \", xtrain.min())\n",
    "print(\"Test x_test/255 Max: \", x_test.max(), ' and Test Min: ', xtest.min())"
   ]
  },
  {
   "attachments": {},
   "cell_type": "markdown",
   "metadata": {},
   "source": [
    "## Feature Scaling"
   ]
  },
  {
   "cell_type": "code",
   "execution_count": 81,
   "metadata": {},
   "outputs": [],
   "source": [
    "from sklearn.decomposition import PCA"
   ]
  },
  {
   "cell_type": "code",
   "execution_count": 83,
   "metadata": {},
   "outputs": [
    {
     "name": "stdout",
     "output_type": "stream",
     "text": [
      "(2932, 64, 64, 3) (2932, 64, 64, 3)\n"
     ]
    }
   ],
   "source": [
    "print(x_train.shape, x_test.shape)\n",
    "\n",
    "pca = PCA(.98)\n",
    "# pca_train = pca.fit_transform(xtrain)\n",
    "# pca_test = pca.transform(xtest)\n",
    "pca_train = x_train\n",
    "pca_test = x_test"
   ]
  },
  {
   "attachments": {},
   "cell_type": "markdown",
   "metadata": {},
   "source": [
    "# Train Model"
   ]
  },
  {
   "cell_type": "code",
   "execution_count": 87,
   "metadata": {},
   "outputs": [],
   "source": [
    "from sklearn.linear_model import LogisticRegression\n",
    "from sklearn.svm import SVC"
   ]
  },
  {
   "cell_type": "code",
   "execution_count": null,
   "metadata": {},
   "outputs": [],
   "source": [
    "import warnings\n",
    "warnings.filterwarnings('ignore')\n",
    "\n",
    "lg = LogisticRegression(C=0.1)\n",
    "lg.fit(pca_train, y_train)\n"
   ]
  },
  {
   "cell_type": "code",
   "execution_count": null,
   "metadata": {},
   "outputs": [],
   "source": [
    "sv = SVC()\n",
    "sv.fit(pca_train, y_train)"
   ]
  },
  {
   "cell_type": "code",
   "execution_count": 84,
   "metadata": {},
   "outputs": [
    {
     "ename": "NameError",
     "evalue": "name 'ytrain' is not defined",
     "output_type": "error",
     "traceback": [
      "\u001b[1;31m---------------------------------------------------------------------------\u001b[0m",
      "\u001b[1;31mNameError\u001b[0m                                 Traceback (most recent call last)",
      "Cell \u001b[1;32mIn[84], line 1\u001b[0m\n\u001b[1;32m----> 1\u001b[0m \u001b[39mprint\u001b[39m(\u001b[39m\"\u001b[39m\u001b[39mTraining Score:\u001b[39m\u001b[39m\"\u001b[39m, lg\u001b[39m.\u001b[39mscore(pca_train, ytrain))\n\u001b[0;32m      2\u001b[0m \u001b[39mprint\u001b[39m(\u001b[39m\"\u001b[39m\u001b[39mTesting Score:\u001b[39m\u001b[39m\"\u001b[39m, lg\u001b[39m.\u001b[39mscore(pca_test, ytest))\n",
      "\u001b[1;31mNameError\u001b[0m: name 'ytrain' is not defined"
     ]
    }
   ],
   "source": [
    "print(\"Training Score:\", lg.score(pca_train, y_train))\n",
    "print(\"Testing Score:\", lg.score(pca_test, y_test))"
   ]
  },
  {
   "cell_type": "code",
   "execution_count": 85,
   "metadata": {},
   "outputs": [
    {
     "ename": "NameError",
     "evalue": "name 'sv' is not defined",
     "output_type": "error",
     "traceback": [
      "\u001b[1;31m---------------------------------------------------------------------------\u001b[0m",
      "\u001b[1;31mNameError\u001b[0m                                 Traceback (most recent call last)",
      "Cell \u001b[1;32mIn[85], line 1\u001b[0m\n\u001b[1;32m----> 1\u001b[0m \u001b[39mprint\u001b[39m(\u001b[39m\"\u001b[39m\u001b[39mTraining Score:\u001b[39m\u001b[39m\"\u001b[39m, sv\u001b[39m.\u001b[39mscore(pca_train, ytrain))\n\u001b[0;32m      2\u001b[0m \u001b[39mprint\u001b[39m(\u001b[39m\"\u001b[39m\u001b[39mTesting Score:\u001b[39m\u001b[39m\"\u001b[39m, sv\u001b[39m.\u001b[39mscore(pca_test, ytest))\n",
      "\u001b[1;31mNameError\u001b[0m: name 'sv' is not defined"
     ]
    }
   ],
   "source": [
    "print(\"Training Score:\", sv.score(pca_train, ytrain))\n",
    "print(\"Testing Score:\", sv.score(pca_test, ytest))"
   ]
  },
  {
   "cell_type": "code",
   "execution_count": null,
   "metadata": {},
   "outputs": [],
   "source": [
    "# # build the model. Binary Classification Problem\n",
    "# model=Sequential()\n",
    "# model.add(Conv2D(32,(3,3),input_shape=(INPUT_SIZE,INPUT_SIZE,3)))\n",
    "# model.add(Activation('relu'))\n",
    "# model.add(MaxPool2D(pool_size=(2,2)))\n",
    "\n",
    "# model=Sequential()\n",
    "# model.add(Conv2D(32,(3,3), kernel_initializer='he_uniform'))\n",
    "# model.add(Activation('relu'))\n",
    "# model.add(MaxPool2D(pool_size=(2,2)))\n",
    "\n",
    "# model=Sequential()\n",
    "# model.add(Conv2D(32,(3,3),kernel_initializer='he_uniform'))\n",
    "# model.add(Activation('relu'))\n",
    "# model.add(MaxPool2D(pool_size=(2,2)))\n",
    "\n",
    "# model.add(Flatten())\n",
    "# model.add(Dense(64))\n",
    "# model.add(Activation('relu'))\n",
    "# model.add(Dropout(0.5))\n",
    "# model.add(Dense(1))\n",
    "# model.add(Activation('sigmoid'))\n",
    "\n",
    "# # Binary CrossEntropy = 1, sigmoid\n",
    "# # Categorial Cross Entropy = 2, softmax\n",
    "\n",
    "# model.compile(loss ='binary_crossentropy', optimizer='adam',)\n",
    "\n",
    "# model.fit(x_train, y_train, batch_size=16, verbose=1, epochs=10, validation_data=(x_test, y_test), shuffle=False)\n",
    "\n",
    "# model.save(\"BrainTumor.h5\")"
   ]
  }
 ],
 "metadata": {
  "kernelspec": {
   "display_name": "Python 3",
   "language": "python",
   "name": "python3"
  },
  "language_info": {
   "codemirror_mode": {
    "name": "ipython",
    "version": 3
   },
   "file_extension": ".py",
   "mimetype": "text/x-python",
   "name": "python",
   "nbconvert_exporter": "python",
   "pygments_lexer": "ipython3",
   "version": "3.11.4"
  },
  "orig_nbformat": 4
 },
 "nbformat": 4,
 "nbformat_minor": 2
}
